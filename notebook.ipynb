{
 "cells": [
  {
   "cell_type": "code",
   "execution_count": 1,
   "id": "0252e5f7",
   "metadata": {},
   "outputs": [],
   "source": [
    "import google.auth\n",
    "import requests\n",
    "from google.auth.transport.requests import Request\n",
    "\n",
    "credentials, project = google.auth.default()\n",
    "credentials.refresh(Request())\n",
    "token = credentials.token\n",
    "headers = {'Authorization': f'Bearer {token}'}\n",
    "\n",
    "ROOT = 'https://api.firecloud.org/api'\n",
    "\n",
    "def get_workspaces(url_root, headers):\n",
    "    request = f'{url_root}/workspaces'\n",
    "    return requests.get(request, headers=headers)"
   ]
  },
  {
   "cell_type": "code",
   "execution_count": 2,
   "id": "703ab815",
   "metadata": {},
   "outputs": [
    {
     "data": {
      "text/plain": [
       "200"
      ]
     },
     "execution_count": 2,
     "metadata": {},
     "output_type": "execute_result"
    }
   ],
   "source": [
    "r = get_workspaces(ROOT, headers)\n",
    "r.status_code"
   ]
  },
  {
   "cell_type": "code",
   "execution_count": null,
   "id": "d5548fa5",
   "metadata": {},
   "outputs": [],
   "source": []
  }
 ],
 "metadata": {
  "kernelspec": {
   "display_name": "template-google-auth",
   "language": "python",
   "name": "template-google-auth"
  },
  "language_info": {
   "codemirror_mode": {
    "name": "ipython",
    "version": 3
   },
   "file_extension": ".py",
   "mimetype": "text/x-python",
   "name": "python",
   "nbconvert_exporter": "python",
   "pygments_lexer": "ipython3",
   "version": "3.9.6"
  }
 },
 "nbformat": 4,
 "nbformat_minor": 5
}
